{
 "cells": [
  {
   "cell_type": "code",
   "id": "bfabb23d-0e73-49cc-b9e5-4d6b413ccf81",
   "metadata": {
    "ExecuteTime": {
     "end_time": "2025-05-22T06:55:09.091744Z",
     "start_time": "2025-05-22T06:55:09.088755Z"
    }
   },
   "source": [
    "import textwrap\n",
    "from IPython.display import Markdown, display\n",
    "from langchain_text_splitters import SentenceTransformersTokenTextSplitter\n",
    "from pypdf import PdfReader\n",
    "from langchain.text_splitter import RecursiveCharacterTextSplitter\n",
    "import numpy as np\n",
    "import chromadb\n",
    "import os\n",
    "from chromadb.utils import embedding_functions\n",
    "from chromadb import Client\n",
    "from tqdm.notebook import trange, tqdm\n",
    "from pprint import pprint\n",
    "\n"
   ],
   "outputs": [],
   "execution_count": 54
  },
  {
   "cell_type": "code",
   "id": "73cf2aee-c9e4-4da8-a792-8498490c517a",
   "metadata": {
    "ExecuteTime": {
     "end_time": "2025-05-22T06:55:09.588397Z",
     "start_time": "2025-05-22T06:55:09.570038Z"
    }
   },
   "source": [
    "def convert_PDF_Text(pdf_path=\"/Users/harun/Documents/GitHub/AI-Powered-Regional-Cost-of-Living-Advisor/Search/Rag/Uni_fiyatları/istanbulGalataUniversitesi.pdf\"):\n",
    "    reader = PdfReader(pdf_path)\n",
    "    pdf_texts = [p.extract_text().strip() for p in reader.pages]\n",
    "    # Filter the empty strings\n",
    "    pdf_texts = [text for text in pdf_texts if text]\n",
    "    return pdf_texts\n",
    "\n",
    "pdf_texts=convert_PDF_Text()\n",
    "pdf_texts"
   ],
   "outputs": [
    {
     "data": {
      "text/plain": [
       "['İstanbul Galata Üniversitesi Eğitim Ücretleri ve Bursları 2024-2025\\nDiş Hekimliği Fakültesi Ücretleri\\nDiş Hekimliği (Ücretli): 780.000 TL (%50 İndirimli): 390.000 TL\\nDiş Hekimliği İngilizce (Ücretli): 660.000 TL (%50 İndirimli): 330.000 TL\\nSanat ve Sosyal Bilimler Fakültesi Ücretleri\\nYönetim Bilişim Sistemleri (egitim.net.tr) (Ücretli): 570.000 TL (%50 İndirimli): 285.000 TL\\nPsikoloji (Ücretli): 660.000 TL (%50 İndirimli): 330.000 TL\\nPsikoloji İngilizce (Ücretli): 660.000 TL (%50 İndirimli): 330.000 TL\\nGastronomi ve Mutfak Sanatları (Ücretli): 550.000 TL (%50 İndirimli): 275.000 TL\\nİletişim ve Tasarımı (%50 İndirimli): 225.000 TL\\nİşletme (Ücretli): 450.000 TL (%50 İndirimli): 225.000 TL\\nHalkla İlişkiler ve Reklamcılık (%50 İndirimli): 187.500 TL\\nİç Mimarlık ve Çevre Tasarımı (Ücretli): 570.000 TL (%50 İndirimli): 285.000 TL\\nİç Mimarlık ve Çevre Tasarımı İngilizce (Ücretli): 570.000 TL (%50 İndirimli): 285.000 TL\\nMühendislik Fakültesi Ücretleri\\nBilgisayar Mühendisliği (Ücretli): 650.000 TL (%50 İndirimli): 325.000 TL\\nSağlık Bilimleri Fakültesi Ücretleri\\nBeslenme ve Diyetetik (Ücretli): 570.000 TL (%50 İndirimli): 285.000 TL\\nFizyoterapi ve Rehabilitasyon (egitim.net.tr) (Ücretli): 570.000 TL (%50 İndirimli): 285.000 TL\\nHemşirelik (Ücretli): 570.000 TL (%50 İndirimli): 285.000 TL\\nSpor Bilimleri Fakültesi Ücretleri\\nAntrenörlük Eğitimi (%50 İndirimli): 142.500 TL\\nMeslek Yüksekokulu\\nAğız ve Diş Sağlığı (Ücretli): 390.000 TL (%50 İndirimli): 195.000 TL\\nAnestezi (Ücretli): 390.000 TL (%50 İndirimli): 195.000 TL\\nİlk ve Acil Yardım (Ücretli): 390.000 TL (%50 İndirimli): 195.000 TL\\nTıbbi Görüntüleme Teknikleri (Ücretli): 390.000 TL (%50 İndirimli): 195.000 TL',\n",
       " 'Fizyoterapi (Ücretli): 390.000 TL (%50 İndirimli): 195.000 TL\\nAşçılık (Ücretli): 325.000 TL (%50 İndirimli): 162.500 TL\\nEczane Hizmetleri (Ücretli): 390.000 TL (%50 İndirimli): 195.000 TL\\nZorunlu ve İsteğe Bağlı İngilizce Hazırlık\\nHazırlık Eğitimi: 250.000 TL\\nPeşin ödemelerde % 8 peşin ödeme indirimi uygulanır.\\nİstanbul Galata Üniversitesi Eğitim Ücretleri ve Bursları 2023-2024\\nİstanbul Galata Üniversitesi’nde eğitim-öğretim ücretlidir.2023-2024 Eğitim-öğretim yılında;\\nDiş Hekimliği (Türkçe) : 260.000 TL\\n(%25 Tercih Burslu) : 195.000 TL\\nDiş Hekimliği (İngilizce) : 220.000 TL\\n(%25 Tercih Burslu) : 154.000 TL\\nSanat ve Sosyal Bilimleri Fakültesi Ücretleri\\nPsikoloji (Türkçe) ve Psikoloji (İngilizce) : (Ücretli) 220.000 TL (% 50 İndiirmli) 110.000 TL\\nYönetim Bilişim Sistemleri : (Ücretli) 190.000 TL (% 50 İndiirmli) 95.000 TL\\nGastronomi ve Mutfak Sanatları : (Ücretli) 220.000 TL (% 50 İndiirmli) 110.000 TL\\nİletişim ve Tasarımı : (Ücretli) 150.000 TL (% 50 İndiirmli) 75.000 TL\\nHalkla İlişkiler ve Reklamcılık : (Ücretli) 150.000 TL (% 50 İndiirmli) 75.000 TL\\nİç Mimarlık ve Çevre Tasarımı (Türkçe) ve İç Mimarlık ve Çevre Tasarımı (İngilizce) : (Ücretli) \\n190.000 TL (% 50 İndiirmli) 95.000 TL\\nSağlık Bilimleri Fakültesi Ücretleri\\nHemşirelik : (Ücretli) 190.000 TL (% 50 İndiirmli) 95.000 TL\\nBeslenme ve Diyetetik : (Ücretli) 190.000 TL (% 50 İndiirmli) 95.000 TL\\nFizyoterapi ve Rehabilitasyon : (Ücretli) 190.000 TL (% 50 İndiirmli) 95.000 TL\\nSpor Bilimleri Fakültesi Ücretleri\\nAntrenörlük Eğitimi* : (Ücretli) 154.000 TL (% 50 İndiirmli) 57.000 TL\\nMeslek Yüksek Okulu Ücretleri\\nAğız ve Diş Sağlığı : (Ücretli) 130.000 TL (% 50 İndiirmli) 65.000 TL',\n",
       " 'Anestezi: (Ücretli) 130.000 TL (% 50 İndiirmli) 65.000 TL\\nİlk ve Acil Yardım: (Ücretli) 130.000 TL (% 50 İndiirmli) 65.000 TL\\nTıbbi Görüntüleme Teknikleri: (Ücretli) 130.000 TL (% 50 İndiirmli) 65.000 TL\\nFizyoterapi: (Ücretli) 130.000 TL (% 50 İndiirmli) 65.000 TL\\nAşçılık: (Ücretli) 130.000 TL (% 50 İndiirmli) 65.000 TL\\nEczane Hizmetleri : (Ücretli) 130.000 TL (% 50 İndiirmli) 65.000 TL\\nA- Peşin Ödeme\\n* Öğrenim ücretinin tamamı peşin olarak 3 farklı şekilde ödenebilir.\\n1. Banka hesabına EFT veya HAVALE yoluyla\\n2. Herhangi bir kredi kartı ile Tek çekim Mali İşler Biriminde\\n3. https://ois.galata.edu.tr/fi/eodeme Adresinden online olarak kredi kartı ile,\\nB- Kredi Kartı İle Ödeme Seçenekleri\\nB-1) Kredi Kartı İle Manuel Ödeme (%15 Peşinat + 8 Taksit)\\nB-2) Kredi Kartı İle Online Ödeme (6 Taksit)\\nC- Kmh İle Taksitli Ödeme (%15 Peşinat+ 8 Taksit)']"
      ]
     },
     "execution_count": 55,
     "metadata": {},
     "output_type": "execute_result"
    }
   ],
   "execution_count": 55
  },
  {
   "cell_type": "code",
   "id": "ae257d4d-3199-4c67-af6c-b4f3969d92a3",
   "metadata": {
    "ExecuteTime": {
     "end_time": "2025-05-22T06:55:10.073338Z",
     "start_time": "2025-05-22T06:55:10.070950Z"
    }
   },
   "source": [
    "# Helper for displaying text\n",
    "def to_markdown(text):\n",
    "    text = text.replace('•', '  *')\n",
    "    return Markdown(textwrap.indent(text, '> ', predicate=lambda _: True))\n",
    "\n"
   ],
   "outputs": [],
   "execution_count": 56
  },
  {
   "cell_type": "code",
   "id": "a217ccf0-b1c7-495f-9824-c83687ef6413",
   "metadata": {
    "ExecuteTime": {
     "end_time": "2025-05-22T06:55:10.658456Z",
     "start_time": "2025-05-22T06:55:10.653488Z"
    }
   },
   "source": [
    "def text_Chunks_in_Char(pdf_texts, chunk_size=500, chunk_overlap=50):\n",
    "    # Combine all PDF texts into one string\n",
    "    full_text = '\\n\\n'.join(pdf_texts)\n",
    "\n",
    "    # Initialize sentence-based text splitter\n",
    "    sentence_splitter = RecursiveCharacterTextSplitter(\n",
    "        separators=[\"\\n\\n\", \"\\n\", \".\", \":\", \";\", \",\", \" \", \"\"],  # Process in this order\n",
    "        chunk_size=chunk_size,\n",
    "        chunk_overlap=chunk_overlap,\n",
    "        length_function=len\n",
    "    )\n",
    "\n",
    "    # Split text into chunks based on sentences\n",
    "    chunks = sentence_splitter.split_text(full_text)\n",
    "    return chunks\n",
    "chunks=text_Chunks_in_Char(pdf_texts)\n",
    "print(len(chunks))\n",
    "chunks"
   ],
   "outputs": [
    {
     "name": "stdout",
     "output_type": "stream",
     "text": [
      "10\n"
     ]
    },
    {
     "data": {
      "text/plain": [
       "['İstanbul Galata Üniversitesi Eğitim Ücretleri ve Bursları 2024-2025\\nDiş Hekimliği Fakültesi Ücretleri\\nDiş Hekimliği (Ücretli): 780.000 TL (%50 İndirimli): 390.000 TL\\nDiş Hekimliği İngilizce (Ücretli): 660.000 TL (%50 İndirimli): 330.000 TL\\nSanat ve Sosyal Bilimler Fakültesi Ücretleri\\nYönetim Bilişim Sistemleri (egitim.net.tr) (Ücretli): 570.000 TL (%50 İndirimli): 285.000 TL\\nPsikoloji (Ücretli): 660.000 TL (%50 İndirimli): 330.000 TL',\n",
       " 'Psikoloji İngilizce (Ücretli): 660.000 TL (%50 İndirimli): 330.000 TL\\nGastronomi ve Mutfak Sanatları (Ücretli): 550.000 TL (%50 İndirimli): 275.000 TL\\nİletişim ve Tasarımı (%50 İndirimli): 225.000 TL\\nİşletme (Ücretli): 450.000 TL (%50 İndirimli): 225.000 TL\\nHalkla İlişkiler ve Reklamcılık (%50 İndirimli): 187.500 TL\\nİç Mimarlık ve Çevre Tasarımı (Ücretli): 570.000 TL (%50 İndirimli): 285.000 TL\\nİç Mimarlık ve Çevre Tasarımı İngilizce (Ücretli): 570.000 TL (%50 İndirimli): 285.000 TL',\n",
       " 'Mühendislik Fakültesi Ücretleri\\nBilgisayar Mühendisliği (Ücretli): 650.000 TL (%50 İndirimli): 325.000 TL\\nSağlık Bilimleri Fakültesi Ücretleri\\nBeslenme ve Diyetetik (Ücretli): 570.000 TL (%50 İndirimli): 285.000 TL\\nFizyoterapi ve Rehabilitasyon (egitim.net.tr) (Ücretli): 570.000 TL (%50 İndirimli): 285.000 TL\\nHemşirelik (Ücretli): 570.000 TL (%50 İndirimli): 285.000 TL\\nSpor Bilimleri Fakültesi Ücretleri\\nAntrenörlük Eğitimi (%50 İndirimli): 142.500 TL\\nMeslek Yüksekokulu',\n",
       " 'Meslek Yüksekokulu\\nAğız ve Diş Sağlığı (Ücretli): 390.000 TL (%50 İndirimli): 195.000 TL\\nAnestezi (Ücretli): 390.000 TL (%50 İndirimli): 195.000 TL\\nİlk ve Acil Yardım (Ücretli): 390.000 TL (%50 İndirimli): 195.000 TL\\nTıbbi Görüntüleme Teknikleri (Ücretli): 390.000 TL (%50 İndirimli): 195.000 TL',\n",
       " 'Fizyoterapi (Ücretli): 390.000 TL (%50 İndirimli): 195.000 TL\\nAşçılık (Ücretli): 325.000 TL (%50 İndirimli): 162.500 TL\\nEczane Hizmetleri (Ücretli): 390.000 TL (%50 İndirimli): 195.000 TL\\nZorunlu ve İsteğe Bağlı İngilizce Hazırlık\\nHazırlık Eğitimi: 250.000 TL\\nPeşin ödemelerde % 8 peşin ödeme indirimi uygulanır.\\nİstanbul Galata Üniversitesi Eğitim Ücretleri ve Bursları 2023-2024\\nİstanbul Galata Üniversitesi’nde eğitim-öğretim ücretlidir.2023-2024 Eğitim-öğretim yılında;',\n",
       " 'Diş Hekimliği (Türkçe) : 260.000 TL\\n(%25 Tercih Burslu) : 195.000 TL\\nDiş Hekimliği (İngilizce) : 220.000 TL\\n(%25 Tercih Burslu) : 154.000 TL\\nSanat ve Sosyal Bilimleri Fakültesi Ücretleri\\nPsikoloji (Türkçe) ve Psikoloji (İngilizce) : (Ücretli) 220.000 TL (% 50 İndiirmli) 110.000 TL\\nYönetim Bilişim Sistemleri : (Ücretli) 190.000 TL (% 50 İndiirmli) 95.000 TL\\nGastronomi ve Mutfak Sanatları : (Ücretli) 220.000 TL (% 50 İndiirmli) 110.000 TL',\n",
       " 'İletişim ve Tasarımı : (Ücretli) 150.000 TL (% 50 İndiirmli) 75.000 TL\\nHalkla İlişkiler ve Reklamcılık : (Ücretli) 150.000 TL (% 50 İndiirmli) 75.000 TL\\nİç Mimarlık ve Çevre Tasarımı (Türkçe) ve İç Mimarlık ve Çevre Tasarımı (İngilizce) : (Ücretli) \\n190.000 TL (% 50 İndiirmli) 95.000 TL\\nSağlık Bilimleri Fakültesi Ücretleri\\nHemşirelik : (Ücretli) 190.000 TL (% 50 İndiirmli) 95.000 TL\\nBeslenme ve Diyetetik : (Ücretli) 190.000 TL (% 50 İndiirmli) 95.000 TL',\n",
       " 'Fizyoterapi ve Rehabilitasyon : (Ücretli) 190.000 TL (% 50 İndiirmli) 95.000 TL\\nSpor Bilimleri Fakültesi Ücretleri\\nAntrenörlük Eğitimi* : (Ücretli) 154.000 TL (% 50 İndiirmli) 57.000 TL\\nMeslek Yüksek Okulu Ücretleri\\nAğız ve Diş Sağlığı : (Ücretli) 130.000 TL (% 50 İndiirmli) 65.000 TL',\n",
       " 'Anestezi: (Ücretli) 130.000 TL (% 50 İndiirmli) 65.000 TL\\nİlk ve Acil Yardım: (Ücretli) 130.000 TL (% 50 İndiirmli) 65.000 TL\\nTıbbi Görüntüleme Teknikleri: (Ücretli) 130.000 TL (% 50 İndiirmli) 65.000 TL\\nFizyoterapi: (Ücretli) 130.000 TL (% 50 İndiirmli) 65.000 TL\\nAşçılık: (Ücretli) 130.000 TL (% 50 İndiirmli) 65.000 TL\\nEczane Hizmetleri : (Ücretli) 130.000 TL (% 50 İndiirmli) 65.000 TL\\nA- Peşin Ödeme\\n* Öğrenim ücretinin tamamı peşin olarak 3 farklı şekilde ödenebilir.',\n",
       " '1. Banka hesabına EFT veya HAVALE yoluyla\\n2. Herhangi bir kredi kartı ile Tek çekim Mali İşler Biriminde\\n3. https://ois.galata.edu.tr/fi/eodeme Adresinden online olarak kredi kartı ile,\\nB- Kredi Kartı İle Ödeme Seçenekleri\\nB-1) Kredi Kartı İle Manuel Ödeme (%15 Peşinat + 8 Taksit)\\nB-2) Kredi Kartı İle Online Ödeme (6 Taksit)\\nC- Kmh İle Taksitli Ödeme (%15 Peşinat+ 8 Taksit)']"
      ]
     },
     "execution_count": 57,
     "metadata": {},
     "output_type": "execute_result"
    }
   ],
   "execution_count": 57
  },
  {
   "cell_type": "code",
   "id": "760452b0-93ee-4198-b80e-496dce6b8ddf",
   "metadata": {
    "ExecuteTime": {
     "end_time": "2025-05-22T06:56:01.875238Z",
     "start_time": "2025-05-22T06:56:01.873224Z"
    }
   },
   "source": "sentence_transformer_model = \"distiluse-base-multilingual-cased-v1\"",
   "outputs": [],
   "execution_count": 58
  },
  {
   "cell_type": "code",
   "id": "096c7df7-f363-4b8c-8cd3-6b702cdc5a63",
   "metadata": {
    "ExecuteTime": {
     "end_time": "2025-05-22T06:56:04.797579Z",
     "start_time": "2025-05-22T06:56:02.624027Z"
    }
   },
   "source": [
    "\n",
    "def convert_Chunk_Token(text_chunksinChar, sentence_transformer_model, chunk_overlap=10, tokens_per_chunk=128):\n",
    "    token_splitter = SentenceTransformersTokenTextSplitter(\n",
    "        chunk_overlap=chunk_overlap,\n",
    "        model_name=sentence_transformer_model,\n",
    "        tokens_per_chunk=tokens_per_chunk)\n",
    "\n",
    "    text_chunksinTokens = []\n",
    "    for text in text_chunksinChar:\n",
    "        text_chunksinTokens += token_splitter.split_text(text)\n",
    "    print(f\"\\nTotal number of chunks (document splited by 128 tokens per chunk): {len(text_chunksinTokens)}\")\n",
    "    return text_chunksinTokens\n",
    "tokens=convert_Chunk_Token(chunks,sentence_transformer_model)\n",
    "tokens[7]"
   ],
   "outputs": [
    {
     "name": "stdout",
     "output_type": "stream",
     "text": [
      "\n",
      "Total number of chunks (document splited by 128 tokens per chunk): 19\n"
     ]
    },
    {
     "data": {
      "text/plain": [
       "'TL ( % 50 İndirimli ) : 195. 000 TL'"
      ]
     },
     "execution_count": 59,
     "metadata": {},
     "output_type": "execute_result"
    }
   ],
   "execution_count": 59
  },
  {
   "cell_type": "code",
   "id": "3470cc38-8fcd-4af7-b37d-97ba516ad7ef",
   "metadata": {
    "ExecuteTime": {
     "end_time": "2025-05-22T06:56:04.803965Z",
     "start_time": "2025-05-22T06:56:04.801939Z"
    }
   },
   "source": [
    "\n",
    "embedding_function = embedding_functions.SentenceTransformerEmbeddingFunction(model_name=sentence_transformer_model)\n"
   ],
   "outputs": [],
   "execution_count": 60
  },
  {
   "cell_type": "code",
   "id": "fa0d4029-3746-4817-8a8c-f370241da507",
   "metadata": {
    "ExecuteTime": {
     "end_time": "2025-05-22T06:56:07.231595Z",
     "start_time": "2025-05-22T06:56:07.227773Z"
    }
   },
   "source": [
    "def create_chroma_client(collection_name, embedding_function):\n",
    "    chroma_client = chromadb.PersistentClient()\n",
    "\n",
    "    # Check if collection already exists and delete it\n",
    "    existing_collections = [col.name for col in chroma_client.list_collections()]\n",
    "    if collection_name in existing_collections:\n",
    "        chroma_client.delete_collection(collection_name)\n",
    "\n",
    "    # Create a new collection\n",
    "    chroma_collection = chroma_client.create_collection(\n",
    "        name=collection_name,\n",
    "        embedding_function=embedding_function\n",
    "    )\n",
    "\n",
    "    return chroma_client, chroma_collection\n",
    "\n"
   ],
   "outputs": [],
   "execution_count": 61
  },
  {
   "cell_type": "code",
   "id": "1f439905-c0e9-4558-bf4d-de50fe058983",
   "metadata": {
    "ExecuteTime": {
     "end_time": "2025-05-22T06:56:07.817955Z",
     "start_time": "2025-05-22T06:56:07.815112Z"
    }
   },
   "source": [
    "def add_meta_data(chunks, title, category, initial_id):\n",
    "    ids = [str(i + initial_id) for i in range(len(chunks))]\n",
    "    filename = os.path.basename(title)\n",
    "    metadata = {\n",
    "        'document': filename,\n",
    "        'category': category\n",
    "    }\n",
    "    metadatas = [metadata for i in range(len(chunks))]\n",
    "    return ids, metadatas\n"
   ],
   "outputs": [],
   "execution_count": 62
  },
  {
   "cell_type": "code",
   "id": "b0da4b6f-c7a3-4bfd-b40d-cf43d601bf67",
   "metadata": {
    "ExecuteTime": {
     "end_time": "2025-05-22T06:56:08.559495Z",
     "start_time": "2025-05-22T06:56:08.557085Z"
    }
   },
   "source": [
    "def add_document_to_collection(ids, metadatas, chunks, chroma_collection):\n",
    "    chroma_collection.upsert(ids=ids, metadatas=metadatas, documents=chunks)\n",
    "    return chroma_collection"
   ],
   "outputs": [],
   "execution_count": 63
  },
  {
   "cell_type": "code",
   "id": "b2fe008f-c5b9-4fad-bc9e-c863a1ba01af",
   "metadata": {
    "ExecuteTime": {
     "end_time": "2025-05-22T06:56:09.817076Z",
     "start_time": "2025-05-22T06:56:09.813661Z"
    }
   },
   "source": [
    "def retrieveDocs(chroma_collection, query, file=None, n_results=10, return_only_docs=False):\n",
    "\n",
    "    # Build query parameters\n",
    "    query_params = {\n",
    "        \"query_texts\": [query],\n",
    "        \"include\": [\"documents\", \"metadatas\", 'distances'],\n",
    "        \"n_results\": n_results\n",
    "    }\n",
    "\n",
    "    # Add file filter if provided\n",
    "    if file is not None:\n",
    "        query_params[\"where\"] = {\"document\": f\"{file}.pdf\"}\n",
    "\n",
    "    # Execute the query\n",
    "    results = chroma_collection.query(**query_params)\n",
    "    print(results['distances'])\n",
    "    if return_only_docs:\n",
    "        return results['documents'][0]\n",
    "    else:\n",
    "        return results\n"
   ],
   "outputs": [],
   "execution_count": 64
  },
  {
   "cell_type": "code",
   "id": "8a74b898-a6db-4ed8-be3b-b8792f6dea51",
   "metadata": {
    "ExecuteTime": {
     "end_time": "2025-05-22T06:56:10.579371Z",
     "start_time": "2025-05-22T06:56:10.575586Z"
    }
   },
   "source": [
    "def show_results(results, return_only_docs=False):\n",
    "    if return_only_docs:\n",
    "        retrieved_documents = results\n",
    "\n",
    "        if len(retrieved_documents) == 0:\n",
    "            return []\n",
    "        # Format each document with a bullet point\n",
    "        formatted_docs = [f\"• {doc}\" for doc in retrieved_documents]\n",
    "        return \"\\n\".join(formatted_docs)\n",
    "    else:\n",
    "        retrieved_documents = results['documents'][0]\n",
    "        metadatas = results['metadatas'][0]\n",
    "\n",
    "        if len(retrieved_documents) == 0:\n",
    "            return []\n",
    "\n",
    "        # Format each document with source information\n",
    "        formatted_docs = []\n",
    "        for doc, metadata in zip(retrieved_documents, metadatas):\n",
    "            # Clean up the document text by removing extra spaces and [UNK] tokens\n",
    "            cleaned_doc = doc.replace('[UNK]', '').strip()\n",
    "            # Add proper spacing between sentences\n",
    "            cleaned_doc = '. '.join(s.strip() for s in cleaned_doc.split('.') if s.strip())\n",
    "            formatted_doc = f\"• {cleaned_doc}\\n  From: {metadata['document']}\\n\"\n",
    "            formatted_docs.append(formatted_doc)\n",
    "        return \"\\n\".join(formatted_docs)\n"
   ],
   "outputs": [],
   "execution_count": 65
  },
  {
   "cell_type": "code",
   "id": "3a06297e-9bac-4759-8b11-37602739f591",
   "metadata": {
    "ExecuteTime": {
     "end_time": "2025-05-22T06:56:11.710611Z",
     "start_time": "2025-05-22T06:56:11.707354Z"
    }
   },
   "source": [
    "\n",
    "def list_files_in_directory(directory_path):\n",
    "    all_entries = os.listdir(directory_path)\n",
    "\n",
    "    files_only = [entry for entry in all_entries\n",
    "                  if os.path.isfile(os.path.join(directory_path, entry))]\n",
    "    return files_only\n"
   ],
   "outputs": [],
   "execution_count": 66
  },
  {
   "cell_type": "code",
   "id": "e172ccfd-88cc-426f-906b-f34a2f6a9e8e",
   "metadata": {
    "ExecuteTime": {
     "end_time": "2025-05-22T06:56:12.872505Z",
     "start_time": "2025-05-22T06:56:12.868886Z"
    }
   },
   "source": [
    "def get_all_pdf_paths(\n",
    "        directory_path=\"/Users/harun/Documents/GitHub/AI-Powered-Regional-Cost-of-Living-Advisor/Search/Rag/Uni_fiyatları\"):\n",
    "    \"\"\"\n",
    "    Get all PDF file paths from the specified directory.\n",
    "\n",
    "    Args:\n",
    "        directory_path (str): Path to the directory containing PDF files\n",
    "\n",
    "    Returns:\n",
    "        list: List of full paths to all PDF files in the directory\n",
    "    \"\"\"\n",
    "    all_files = list_files_in_directory(directory_path)\n",
    "    pdf_files = [f for f in all_files if f.lower().endswith('.pdf')]\n",
    "    full_paths = [os.path.join(directory_path, pdf_file) for pdf_file in pdf_files]\n",
    "    return full_paths\n"
   ],
   "outputs": [],
   "execution_count": 67
  },
  {
   "cell_type": "code",
   "id": "72429681-e5da-41a6-af56-84949a2e6844",
   "metadata": {
    "ExecuteTime": {
     "end_time": "2025-05-22T06:56:13.732138Z",
     "start_time": "2025-05-22T06:56:13.727543Z"
    }
   },
   "source": [
    "def load_multiple_pdfs_to_ChromaDB(collection_name, sentence_transformer_model):\n",
    "    \"\"\"\n",
    "    Load multiple PDFs into ChromaDB collection with proper chunking and embedding.\n",
    "\n",
    "    Args:\n",
    "        collection_name (str): Name of the ChromaDB collection\n",
    "        sentence_transformer_model (str): Name of the sentence transformer model to use\n",
    "\n",
    "    Returns:\n",
    "        tuple: (chroma_client, chroma_collection)\n",
    "    \"\"\"\n",
    "    # Initialize embedding function\n",
    "    embedding_function = embedding_functions.SentenceTransformerEmbeddingFunction(model_name=sentence_transformer_model)\n",
    "\n",
    "    # Create or get ChromaDB client and collection\n",
    "    chroma_client, chroma_collection = create_chroma_client(collection_name, embedding_function)\n",
    "\n",
    "    # Get current ID for continuous indexing\n",
    "    current_id = chroma_collection.count()\n",
    "\n",
    "    # Get all PDF paths from the directory\n",
    "    pdf_paths = get_all_pdf_paths()\n",
    "\n",
    "    for pdf_path in pdf_paths:\n",
    "        # Extract text from PDF\n",
    "        pdf_texts = convert_PDF_Text(pdf_path)\n",
    "\n",
    "        # Create character-based chunks first\n",
    "        char_chunks = text_Chunks_in_Char(pdf_texts)\n",
    "        \n",
    "        # Convert to token-based chunks\n",
    "        token_chunks = convert_Chunk_Token(char_chunks, sentence_transformer_model)\n",
    "\n",
    "        # Add metadata and get IDs\n",
    "        ids, metadatas = add_meta_data(token_chunks, pdf_path, \"PricePaper\", current_id)\n",
    "\n",
    "        # Update current_id for next document\n",
    "        current_id += len(token_chunks)\n",
    "\n",
    "        # Add to collection\n",
    "        chroma_collection = add_document_to_collection(ids, metadatas, token_chunks, chroma_collection)\n",
    "\n",
    "    return chroma_client, chroma_collection"
   ],
   "outputs": [],
   "execution_count": 68
  },
  {
   "cell_type": "code",
   "id": "58d324c1-b7b7-4bce-9cee-7cd4de5675da",
   "metadata": {
    "ExecuteTime": {
     "end_time": "2025-05-22T06:56:14.721875Z",
     "start_time": "2025-05-22T06:56:14.718710Z"
    }
   },
   "source": [
    "def get_existing_chroma_collection(collection_name):\n",
    "\n",
    "    chroma_client = chromadb.PersistentClient()\n",
    "    \n",
    "    # Get the existing collection\n",
    "    chroma_collection = chroma_client.get_collection(\n",
    "        name=collection_name\n",
    "    )\n",
    "    \n",
    "    return  chroma_collection"
   ],
   "outputs": [],
   "execution_count": 69
  },
  {
   "cell_type": "code",
   "id": "afcebb88-1b77-446f-9ec4-7ab3cb090edf",
   "metadata": {
    "ExecuteTime": {
     "end_time": "2025-05-22T07:07:48.683094Z",
     "start_time": "2025-05-22T07:07:48.642224Z"
    }
   },
   "source": [
    "from KeywordAgent import keyword_agent\n",
    "\n",
    "# Test code\n",
    "# chroma_client, chroma_collection = load_multiple_pdfs_to_ChromaDB(\"UniPrices\", sentence_transformer_model)\n",
    "chroma_collection=get_existing_chroma_collection(\"UniPrices\")\n",
    "\n",
    "\n",
    "chroma_collection = get_existing_chroma_collection(\"UniPrices\")\n",
    "query = \"Diyetetik Ücretleri\"\n",
    "keyword = \"istanbulGalataUniversitesi\"\n",
    "filtered_keyword = keyword.strip('\"')\n",
    "retrieved_documents = retrieveDocs(chroma_collection, query, filtered_keyword, 10, return_only_docs=True)\n",
    "print(show_results(retrieved_documents,return_only_docs=True))\n",
    "# keyword = keyword_agent.parse_keywords(query)\n",
    "# filtered_keyword = keyword.strip('\"')\n",
    "# if filtered_keyword != 'None':\n",
    "#     retrieved_documents = retrieveDocs(chroma_collection, query, \"istanbulGalataUniversitesi\", 10)\n",
    "#     show_results(retrieved_documents)\n",
    "# else:\n",
    "#     retrieved_documents = retrieveDocs(chroma_collection, query, None, 10)\n",
    "#     show_results(retrieved_documents)\n",
    "\n"
   ],
   "outputs": [
    {
     "ename": "InternalError",
     "evalue": "Database error: error returned from database: (code: 1) no such table: tenants",
     "output_type": "error",
     "traceback": [
      "\u001B[0;31m---------------------------------------------------------------------------\u001B[0m",
      "\u001B[0;31mInternalError\u001B[0m                             Traceback (most recent call last)",
      "Cell \u001B[0;32mIn[72], line 8\u001B[0m\n\u001B[1;32m      1\u001B[0m \u001B[38;5;28;01mfrom\u001B[39;00m\u001B[38;5;250m \u001B[39m\u001B[38;5;21;01mKeywordAgent\u001B[39;00m\u001B[38;5;250m \u001B[39m\u001B[38;5;28;01mimport\u001B[39;00m keyword_agent\n\u001B[1;32m      3\u001B[0m \u001B[38;5;66;03m# Test code\u001B[39;00m\n\u001B[1;32m      4\u001B[0m \u001B[38;5;66;03m# chroma_client, chroma_collection = load_multiple_pdfs_to_ChromaDB(\"UniPrices\", sentence_transformer_model)\u001B[39;00m\n\u001B[1;32m      5\u001B[0m \u001B[38;5;66;03m# chroma_collection=get_existing_chroma_collection(\"UniPrices\")\u001B[39;00m\n\u001B[0;32m----> 8\u001B[0m chroma_collection \u001B[38;5;241m=\u001B[39m \u001B[43mget_existing_chroma_collection\u001B[49m\u001B[43m(\u001B[49m\u001B[38;5;124;43m\"\u001B[39;49m\u001B[38;5;124;43mUniPrices\u001B[39;49m\u001B[38;5;124;43m\"\u001B[39;49m\u001B[43m)\u001B[49m\n\u001B[1;32m      9\u001B[0m query \u001B[38;5;241m=\u001B[39m \u001B[38;5;124m\"\u001B[39m\u001B[38;5;124mDiyetetik Ücretleri\u001B[39m\u001B[38;5;124m\"\u001B[39m\n\u001B[1;32m     10\u001B[0m keyword \u001B[38;5;241m=\u001B[39m \u001B[38;5;124m\"\u001B[39m\u001B[38;5;124mistanbulGalataUniversitesi\u001B[39m\u001B[38;5;124m\"\u001B[39m\n",
      "Cell \u001B[0;32mIn[69], line 3\u001B[0m, in \u001B[0;36mget_existing_chroma_collection\u001B[0;34m(collection_name)\u001B[0m\n\u001B[1;32m      1\u001B[0m \u001B[38;5;28;01mdef\u001B[39;00m\u001B[38;5;250m \u001B[39m\u001B[38;5;21mget_existing_chroma_collection\u001B[39m(collection_name):\n\u001B[0;32m----> 3\u001B[0m     chroma_client \u001B[38;5;241m=\u001B[39m \u001B[43mchromadb\u001B[49m\u001B[38;5;241;43m.\u001B[39;49m\u001B[43mPersistentClient\u001B[49m\u001B[43m(\u001B[49m\u001B[43m)\u001B[49m\n\u001B[1;32m      5\u001B[0m     \u001B[38;5;66;03m# Get the existing collection\u001B[39;00m\n\u001B[1;32m      6\u001B[0m     chroma_collection \u001B[38;5;241m=\u001B[39m chroma_client\u001B[38;5;241m.\u001B[39mget_collection(\n\u001B[1;32m      7\u001B[0m         name\u001B[38;5;241m=\u001B[39mcollection_name\n\u001B[1;32m      8\u001B[0m     )\n",
      "File \u001B[0;32m/Library/Frameworks/Python.framework/Versions/3.11/lib/python3.11/site-packages/chromadb/__init__.py:161\u001B[0m, in \u001B[0;36mPersistentClient\u001B[0;34m(path, settings, tenant, database)\u001B[0m\n\u001B[1;32m    158\u001B[0m tenant \u001B[38;5;241m=\u001B[39m \u001B[38;5;28mstr\u001B[39m(tenant)\n\u001B[1;32m    159\u001B[0m database \u001B[38;5;241m=\u001B[39m \u001B[38;5;28mstr\u001B[39m(database)\n\u001B[0;32m--> 161\u001B[0m \u001B[38;5;28;01mreturn\u001B[39;00m \u001B[43mClientCreator\u001B[49m\u001B[43m(\u001B[49m\u001B[43mtenant\u001B[49m\u001B[38;5;241;43m=\u001B[39;49m\u001B[43mtenant\u001B[49m\u001B[43m,\u001B[49m\u001B[43m \u001B[49m\u001B[43mdatabase\u001B[49m\u001B[38;5;241;43m=\u001B[39;49m\u001B[43mdatabase\u001B[49m\u001B[43m,\u001B[49m\u001B[43m \u001B[49m\u001B[43msettings\u001B[49m\u001B[38;5;241;43m=\u001B[39;49m\u001B[43msettings\u001B[49m\u001B[43m)\u001B[49m\n",
      "File \u001B[0;32m/Library/Frameworks/Python.framework/Versions/3.11/lib/python3.11/site-packages/chromadb/api/client.py:85\u001B[0m, in \u001B[0;36mClient.__init__\u001B[0;34m(self, tenant, database, settings)\u001B[0m\n\u001B[1;32m     83\u001B[0m \u001B[38;5;66;03m# Create an admin client for verifying that databases and tenants exist\u001B[39;00m\n\u001B[1;32m     84\u001B[0m \u001B[38;5;28mself\u001B[39m\u001B[38;5;241m.\u001B[39m_admin_client \u001B[38;5;241m=\u001B[39m AdminClient\u001B[38;5;241m.\u001B[39mfrom_system(\u001B[38;5;28mself\u001B[39m\u001B[38;5;241m.\u001B[39m_system)\n\u001B[0;32m---> 85\u001B[0m \u001B[38;5;28;43mself\u001B[39;49m\u001B[38;5;241;43m.\u001B[39;49m\u001B[43m_validate_tenant_database\u001B[49m\u001B[43m(\u001B[49m\u001B[43mtenant\u001B[49m\u001B[38;5;241;43m=\u001B[39;49m\u001B[38;5;28;43mself\u001B[39;49m\u001B[38;5;241;43m.\u001B[39;49m\u001B[43mtenant\u001B[49m\u001B[43m,\u001B[49m\u001B[43m \u001B[49m\u001B[43mdatabase\u001B[49m\u001B[38;5;241;43m=\u001B[39;49m\u001B[38;5;28;43mself\u001B[39;49m\u001B[38;5;241;43m.\u001B[39;49m\u001B[43mdatabase\u001B[49m\u001B[43m)\u001B[49m\n\u001B[1;32m     87\u001B[0m \u001B[38;5;28mself\u001B[39m\u001B[38;5;241m.\u001B[39m_submit_client_start_event()\n",
      "File \u001B[0;32m/Library/Frameworks/Python.framework/Versions/3.11/lib/python3.11/site-packages/chromadb/api/client.py:433\u001B[0m, in \u001B[0;36mClient._validate_tenant_database\u001B[0;34m(self, tenant, database)\u001B[0m\n\u001B[1;32m    431\u001B[0m \u001B[38;5;66;03m# Propagate ChromaErrors\u001B[39;00m\n\u001B[1;32m    432\u001B[0m \u001B[38;5;28;01mexcept\u001B[39;00m ChromaError \u001B[38;5;28;01mas\u001B[39;00m e:\n\u001B[0;32m--> 433\u001B[0m     \u001B[38;5;28;01mraise\u001B[39;00m e\n\u001B[1;32m    434\u001B[0m \u001B[38;5;28;01mexcept\u001B[39;00m \u001B[38;5;167;01mException\u001B[39;00m:\n\u001B[1;32m    435\u001B[0m     \u001B[38;5;28;01mraise\u001B[39;00m \u001B[38;5;167;01mValueError\u001B[39;00m(\n\u001B[1;32m    436\u001B[0m         \u001B[38;5;124mf\u001B[39m\u001B[38;5;124m\"\u001B[39m\u001B[38;5;124mCould not connect to tenant \u001B[39m\u001B[38;5;132;01m{\u001B[39;00mtenant\u001B[38;5;132;01m}\u001B[39;00m\u001B[38;5;124m. Are you sure it exists?\u001B[39m\u001B[38;5;124m\"\u001B[39m\n\u001B[1;32m    437\u001B[0m     )\n",
      "File \u001B[0;32m/Library/Frameworks/Python.framework/Versions/3.11/lib/python3.11/site-packages/chromadb/api/client.py:426\u001B[0m, in \u001B[0;36mClient._validate_tenant_database\u001B[0;34m(self, tenant, database)\u001B[0m\n\u001B[1;32m    424\u001B[0m \u001B[38;5;28;01mdef\u001B[39;00m\u001B[38;5;250m \u001B[39m\u001B[38;5;21m_validate_tenant_database\u001B[39m(\u001B[38;5;28mself\u001B[39m, tenant: \u001B[38;5;28mstr\u001B[39m, database: \u001B[38;5;28mstr\u001B[39m) \u001B[38;5;241m-\u001B[39m\u001B[38;5;241m>\u001B[39m \u001B[38;5;28;01mNone\u001B[39;00m:\n\u001B[1;32m    425\u001B[0m     \u001B[38;5;28;01mtry\u001B[39;00m:\n\u001B[0;32m--> 426\u001B[0m         \u001B[38;5;28;43mself\u001B[39;49m\u001B[38;5;241;43m.\u001B[39;49m\u001B[43m_admin_client\u001B[49m\u001B[38;5;241;43m.\u001B[39;49m\u001B[43mget_tenant\u001B[49m\u001B[43m(\u001B[49m\u001B[43mname\u001B[49m\u001B[38;5;241;43m=\u001B[39;49m\u001B[43mtenant\u001B[49m\u001B[43m)\u001B[49m\n\u001B[1;32m    427\u001B[0m     \u001B[38;5;28;01mexcept\u001B[39;00m httpx\u001B[38;5;241m.\u001B[39mConnectError:\n\u001B[1;32m    428\u001B[0m         \u001B[38;5;28;01mraise\u001B[39;00m \u001B[38;5;167;01mValueError\u001B[39;00m(\n\u001B[1;32m    429\u001B[0m             \u001B[38;5;124m\"\u001B[39m\u001B[38;5;124mCould not connect to a Chroma server. Are you sure it is running?\u001B[39m\u001B[38;5;124m\"\u001B[39m\n\u001B[1;32m    430\u001B[0m         )\n",
      "File \u001B[0;32m/Library/Frameworks/Python.framework/Versions/3.11/lib/python3.11/site-packages/chromadb/api/client.py:483\u001B[0m, in \u001B[0;36mAdminClient.get_tenant\u001B[0;34m(self, name)\u001B[0m\n\u001B[1;32m    481\u001B[0m \u001B[38;5;129m@override\u001B[39m\n\u001B[1;32m    482\u001B[0m \u001B[38;5;28;01mdef\u001B[39;00m\u001B[38;5;250m \u001B[39m\u001B[38;5;21mget_tenant\u001B[39m(\u001B[38;5;28mself\u001B[39m, name: \u001B[38;5;28mstr\u001B[39m) \u001B[38;5;241m-\u001B[39m\u001B[38;5;241m>\u001B[39m Tenant:\n\u001B[0;32m--> 483\u001B[0m     \u001B[38;5;28;01mreturn\u001B[39;00m \u001B[38;5;28;43mself\u001B[39;49m\u001B[38;5;241;43m.\u001B[39;49m\u001B[43m_server\u001B[49m\u001B[38;5;241;43m.\u001B[39;49m\u001B[43mget_tenant\u001B[49m\u001B[43m(\u001B[49m\u001B[43mname\u001B[49m\u001B[38;5;241;43m=\u001B[39;49m\u001B[43mname\u001B[49m\u001B[43m)\u001B[49m\n",
      "File \u001B[0;32m/Library/Frameworks/Python.framework/Versions/3.11/lib/python3.11/site-packages/chromadb/api/rust.py:166\u001B[0m, in \u001B[0;36mRustBindingsAPI.get_tenant\u001B[0;34m(self, name)\u001B[0m\n\u001B[1;32m    164\u001B[0m \u001B[38;5;129m@override\u001B[39m\n\u001B[1;32m    165\u001B[0m \u001B[38;5;28;01mdef\u001B[39;00m\u001B[38;5;250m \u001B[39m\u001B[38;5;21mget_tenant\u001B[39m(\u001B[38;5;28mself\u001B[39m, name: \u001B[38;5;28mstr\u001B[39m) \u001B[38;5;241m-\u001B[39m\u001B[38;5;241m>\u001B[39m Tenant:\n\u001B[0;32m--> 166\u001B[0m     tenant \u001B[38;5;241m=\u001B[39m \u001B[38;5;28;43mself\u001B[39;49m\u001B[38;5;241;43m.\u001B[39;49m\u001B[43mbindings\u001B[49m\u001B[38;5;241;43m.\u001B[39;49m\u001B[43mget_tenant\u001B[49m\u001B[43m(\u001B[49m\u001B[43mname\u001B[49m\u001B[43m)\u001B[49m\n\u001B[1;32m    167\u001B[0m     \u001B[38;5;28;01mreturn\u001B[39;00m Tenant(name\u001B[38;5;241m=\u001B[39mtenant\u001B[38;5;241m.\u001B[39mname)\n",
      "\u001B[0;31mInternalError\u001B[0m: Database error: error returned from database: (code: 1) no such table: tenants"
     ]
    }
   ],
   "execution_count": 72
  },
  {
   "cell_type": "code",
   "execution_count": null,
   "id": "3232eb70-0f97-430d-ba38-e9d2c4d15eb4",
   "metadata": {},
   "outputs": [],
   "source": []
  }
 ],
 "metadata": {
  "kernelspec": {
   "display_name": "Python 3 (ipykernel)",
   "language": "python",
   "name": "python3"
  },
  "language_info": {
   "codemirror_mode": {
    "name": "ipython",
    "version": 3
   },
   "file_extension": ".py",
   "mimetype": "text/x-python",
   "name": "python",
   "nbconvert_exporter": "python",
   "pygments_lexer": "ipython3",
   "version": "3.11.1"
  }
 },
 "nbformat": 4,
 "nbformat_minor": 5
}
